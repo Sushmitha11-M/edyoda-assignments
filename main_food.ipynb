{
 "cells": [
  {
   "cell_type": "code",
   "execution_count": 1,
   "id": "36dc70d7",
   "metadata": {},
   "outputs": [
    {
     "name": "stdout",
     "output_type": "stream",
     "text": [
      "importing Jupyter notebook from food_adding.ipynb\n",
      "importing Jupyter notebook from food.ipynb\n"
     ]
    }
   ],
   "source": [
    "import import_ipynb\n",
    "from food_adding import*\n",
    "import re"
   ]
  },
  {
   "cell_type": "code",
   "execution_count": null,
   "id": "db174208",
   "metadata": {},
   "outputs": [
    {
     "name": "stdout",
     "output_type": "stream",
     "text": [
      "1.Register: \n",
      "2.Login: \n",
      "Enter your choice: 1\n",
      "****************Register******************\n",
      "Enter the your name: kiran\n",
      "Enter your contact: 0987654321\n",
      "Enter your Email Address: kiran@gmail.com\n",
      "Enter your Address: mangalore\n",
      "Set the Password: kiran@0218\n",
      "Registered Successfully!\n",
      "1.Register: \n",
      "2.Login: \n",
      "Enter your choice: 2\n",
      "*****************Login****************\n",
      "Enter your Email Address: kiran@gmail.com\n",
      "Enter your Password!kiran@0218\n",
      "Login Successfully\n",
      "1. Add Food: \n",
      "2.View Food List: \n",
      "3. Update Food to the Menu: \n",
      "4. Delete the Food from the Menu: \n",
      "\n",
      "Enter your option: 1\n",
      "Food id is:  30\n",
      "Enter the Food name: ice-cream\n",
      "enter quantity: 1\n",
      "Enter the Food Price: 50\n",
      "Enter the Discount: 0\n",
      "Successfully Food Added to the Menu!\n",
      "1. Add Food: \n",
      "2.View Food List: \n",
      "3. Update Food to the Menu: \n",
      "4. Delete the Food from the Menu: \n",
      "\n",
      "Enter your option: 2\n",
      "*************\n",
      "Food Id: 30 \n",
      "Food Name: ice-cream \n",
      "Quantity: 1 \n",
      "Price: 50 \n",
      "Discount: 0 \n",
      "1. Add Food: \n",
      "2.View Food List: \n",
      "3. Update Food to the Menu: \n",
      "4. Delete the Food from the Menu: \n",
      "\n",
      "Enter your option: 5\n",
      "Sorry! you entere wrong option\n",
      "Thank you! you have log out successfully! if you want to continue please login! \n",
      "Incorrect Password!\n",
      "You have not Registered!\n",
      "1.Register: \n",
      "2.Login: \n"
     ]
    }
   ],
   "source": [
    "class FoodMain:\n",
    "    def __init__(self,foodfunction_obj):\n",
    "        self.foodfunction_obj=foodfunction_obj\n",
    "        \n",
    "    def execute(self,choice):\n",
    "        if choice==1:\n",
    "            print(\"****************Register******************\")\n",
    "            self.foodfunction_obj.Admin_Register()\n",
    "            \n",
    "        elif choice==2:\n",
    "            print(\"*****************Login****************\")\n",
    "            for info in foodfunction_obj.adminlist:\n",
    "                Email=str(input(\"Enter your Email Address: \"))\n",
    "                res=re.findall(r\"^[a-zA-Z0-9]+[@][a-z+]+[.]{1}[a-z]+$\", Email)\n",
    "                if res:\n",
    "                    if info.Email==Email:\n",
    "                        Password=str(input(\"Enter your Password!\"))\n",
    "                        password=re.fullmatch(r'[A-Za-z0-9@#$%^&+=]{8,}', Password)\n",
    "                        if password:\n",
    "                            for psw in foodfunction_obj.adminlist:\n",
    "                                if psw.Password==Password:\n",
    "                                    print(\"Login Successfully\")\n",
    "                                    while True:\n",
    "                                        print(\"1. Add Food: \\n2.View Food List: \\n3. Update Food to the Menu: \\n4. Delete the Food from the Menu: \\n\")\n",
    "                                        option=int(input(\"Enter your option: \"))\n",
    "                                        if option==1:\n",
    "                                            self.foodfunction_obj.add_food()\n",
    "                                        elif option==2:\n",
    "                                            self.foodfunction_obj.view_food()\n",
    "                                        elif option==3:\n",
    "                                            self.foodfunction_obj.update_food()\n",
    "                                        elif option==4:\n",
    "                                            self.foodfunction_obj.delete_food()\n",
    "                                        else:\n",
    "                                            print(\"Sorry! you entere wrong option\")\n",
    "                                            print(\"Thank you! you have log out successfully! if you want to continue please login! \")\n",
    "                                            break;\n",
    "                            else:\n",
    "                                print(\"Incorrect Password!\")\n",
    "                print(\"You have not Registered!\")\n",
    "                break;\n",
    "            \n",
    "if __name__==\"__main__\":\n",
    "    \n",
    "    foodfunction_obj=FoodAdding()\n",
    "    foodmain_obj=FoodMain(foodfunction_obj)\n",
    "    \n",
    "    while True:\n",
    "        try:\n",
    "            print(\"1.Register: \\n2.Login: \")\n",
    "            choice=int(input(\"Enter your choice: \"))\n",
    "            foodmain_obj.execute(choice)\n",
    "        except Exception as ex:\n",
    "            print(\"you eneter wrong choice! please select correct one!  \")"
   ]
  },
  {
   "cell_type": "code",
   "execution_count": null,
   "id": "b5bccd03",
   "metadata": {},
   "outputs": [],
   "source": []
  }
 ],
 "metadata": {
  "kernelspec": {
   "display_name": "Python 3",
   "language": "python",
   "name": "python3"
  },
  "language_info": {
   "codemirror_mode": {
    "name": "ipython",
    "version": 3
   },
   "file_extension": ".py",
   "mimetype": "text/x-python",
   "name": "python",
   "nbconvert_exporter": "python",
   "pygments_lexer": "ipython3",
   "version": "3.8.8"
  }
 },
 "nbformat": 4,
 "nbformat_minor": 5
}
