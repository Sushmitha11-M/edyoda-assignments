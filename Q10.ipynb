{
 "cells": [
  {
   "cell_type": "code",
   "execution_count": 19,
   "id": "91121cdb",
   "metadata": {},
   "outputs": [
    {
     "name": "stdout",
     "output_type": "stream",
     "text": [
      "Please enter the elements to push: 10 23 18 40\n",
      "The stack:\n",
      "40\n",
      "18\n",
      "23\n",
      "10\n",
      "Smallest element is: 10\n"
     ]
    }
   ],
   "source": [
    "from collections import deque\n",
    "class Stack:\n",
    "    def __init__(self):\n",
    "        self.s = deque()\n",
    "        self.items = []\n",
    "        self.min = None\n",
    " \n",
    "    def is_empty(self):\n",
    "        return self.items == []\n",
    " \n",
    "    def push(self, data):\n",
    "        if not self.s:\n",
    "            self.s.append(data)\n",
    "            self.min = data\n",
    "        elif data > self.min:\n",
    "            self.s.append(data)\n",
    "        else:\n",
    "            self.s.append(2*data - self.min)\n",
    "            self.min = data\n",
    "        self.items.append(data)\n",
    " \n",
    "    def pop(self):\n",
    "        return self.items.pop()\n",
    " \n",
    "    def display(self):\n",
    "        for data in reversed(self.items):\n",
    "            print(data)\n",
    "            \n",
    "    def getMin(self):\n",
    "        return self.min\n",
    "            \n",
    "def insert_at_bottom(s, data):\n",
    "    if s.is_empty():\n",
    "        s.push(data)\n",
    "    else:\n",
    "        popped = s.pop()\n",
    "        insert_at_bottom(s, data)\n",
    "        s.push(popped)\n",
    "        \n",
    "s = Stack()\n",
    "data_list = input('Please enter the elements to push: ').split()\n",
    "for data in data_list:\n",
    "    s.push(int(data)) \n",
    "print('The stack:')\n",
    "s.display()\n",
    "print(\"Smallest element is:\",s.getMin()) "
   ]
  },
  {
   "cell_type": "code",
   "execution_count": null,
   "id": "8a719da4",
   "metadata": {},
   "outputs": [],
   "source": []
  }
 ],
 "metadata": {
  "kernelspec": {
   "display_name": "Python 3",
   "language": "python",
   "name": "python3"
  },
  "language_info": {
   "codemirror_mode": {
    "name": "ipython",
    "version": 3
   },
   "file_extension": ".py",
   "mimetype": "text/x-python",
   "name": "python",
   "nbconvert_exporter": "python",
   "pygments_lexer": "ipython3",
   "version": "3.8.8"
  }
 },
 "nbformat": 4,
 "nbformat_minor": 5
}
