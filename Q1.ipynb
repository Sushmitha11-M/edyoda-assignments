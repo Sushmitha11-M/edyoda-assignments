{
 "cells": [
  {
   "cell_type": "code",
   "execution_count": 5,
   "id": "9f026d44",
   "metadata": {},
   "outputs": [
    {
     "name": "stdout",
     "output_type": "stream",
     "text": [
      "enter the size if the list6\n",
      "enter the number1 \n",
      "enter the number5\n",
      "enter the number3\n",
      "enter the number2\n",
      "enter the number6\n",
      "enter the number4\n",
      "[1, 5, 3, 2, 6, 4]\n",
      "enter the sum: 3\n",
      "Array=  [5, 2, 3, 4, 1, 6, 7]\n",
      "Pairs whose sum is :  3\n",
      "2 1\n"
     ]
    }
   ],
   "source": [
    "def find(array, len, summ):\n",
    "    \n",
    "    print(\"Pairs whose sum is : \", summ)\n",
    "    for i in range(len):\n",
    "        for j in range(i, len):\n",
    "            if (array[i] + array[j]) == summ:\n",
    "                print(array[i], array[j])\n",
    "    \n",
    "array_size=int(input(\"enter the size if the list\"))\n",
    "\n",
    "Array=[]\n",
    "for i in range(array_size):\n",
    "    num=int(input(\"enter the number\"))\n",
    "    if num in Array:\n",
    "        while num in Array:\n",
    "            print(\"this number is already exist\")\n",
    "            num=int(input(\"enter the another number\"))\n",
    "            continue\n",
    "    Array.append(num)\n",
    "print(Array)\n",
    "summ = int(input(\"enter the sum: \"))\n",
    "\n",
    "print(\"Array= \", array)\n",
    "\n",
    "# call function find\n",
    "find(array, len(array), summ)"
   ]
  },
  {
   "cell_type": "code",
   "execution_count": null,
   "id": "73665a0f",
   "metadata": {},
   "outputs": [],
   "source": []
  }
 ],
 "metadata": {
  "kernelspec": {
   "display_name": "Python 3",
   "language": "python",
   "name": "python3"
  },
  "language_info": {
   "codemirror_mode": {
    "name": "ipython",
    "version": 3
   },
   "file_extension": ".py",
   "mimetype": "text/x-python",
   "name": "python",
   "nbconvert_exporter": "python",
   "pygments_lexer": "ipython3",
   "version": "3.8.8"
  }
 },
 "nbformat": 4,
 "nbformat_minor": 5
}
