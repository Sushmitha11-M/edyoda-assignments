{
 "cells": [
  {
   "cell_type": "code",
   "execution_count": 1,
   "id": "d10ce663",
   "metadata": {},
   "outputs": [],
   "source": [
    "import numpy as np"
   ]
  },
  {
   "cell_type": "markdown",
   "id": "3e0cba41",
   "metadata": {},
   "source": [
    "# 1. Create a null vector of size 10 but the fifth value which is 1"
   ]
  },
  {
   "cell_type": "code",
   "execution_count": 10,
   "id": "cace51e1",
   "metadata": {},
   "outputs": [
    {
     "name": "stdout",
     "output_type": "stream",
     "text": [
      "[0. 0. 0. 0. 1. 0. 0. 0. 0. 0.]\n"
     ]
    }
   ],
   "source": [
    "x=np.zeros(10) #1 create an array of values \n",
    "x[4]=1\n",
    "print(x)"
   ]
  },
  {
   "cell_type": "markdown",
   "id": "dd3d6d3a",
   "metadata": {},
   "source": [
    "# 2. Create a vector with values ranging from 10 to 49"
   ]
  },
  {
   "cell_type": "code",
   "execution_count": 14,
   "id": "6a66e8dd",
   "metadata": {},
   "outputs": [
    {
     "name": "stdout",
     "output_type": "stream",
     "text": [
      "[10 11 12 13 14 15 16 17 18 19 20 21 22 23 24 25 26 27 28 29 30 31 32 33\n",
      " 34 35 36 37 38 39 40 41 42 43 44 45 46 47 48]\n"
     ]
    }
   ],
   "source": [
    "a=np.arange(10,49)\n",
    "print(a)"
   ]
  },
  {
   "cell_type": "markdown",
   "id": "e11343da",
   "metadata": {},
   "source": [
    "# 3.Create a 3x3 matrix with values ranging from 0 to 8"
   ]
  },
  {
   "cell_type": "code",
   "execution_count": 16,
   "id": "ed437380",
   "metadata": {},
   "outputs": [
    {
     "name": "stdout",
     "output_type": "stream",
     "text": [
      "[[0 1 2]\n",
      " [3 4 5]\n",
      " [6 7 8]]\n"
     ]
    }
   ],
   "source": [
    "x =  np.arange(0, 9).reshape(3,3)\n",
    "print(x)"
   ]
  },
  {
   "cell_type": "markdown",
   "id": "8489a055",
   "metadata": {},
   "source": [
    "# 4. Find indices of non-zero elements from [1,2,0,0,4,0]"
   ]
  },
  {
   "cell_type": "code",
   "execution_count": 19,
   "id": "751d8d4b",
   "metadata": {},
   "outputs": [
    {
     "name": "stdout",
     "output_type": "stream",
     "text": [
      "[1 2 0 0 4 0]\n",
      "(array([0, 1, 4], dtype=int64),)\n"
     ]
    }
   ],
   "source": [
    "n_array = np.array([1,2,0,0,4,0])\n",
    "print(n_array)\n",
    "\n",
    "res=np.nonzero(n_array)\n",
    "print(res)"
   ]
  },
  {
   "cell_type": "markdown",
   "id": "062b867e",
   "metadata": {},
   "source": [
    "# 5.Create a 10x10 array with random values and find the minimum and maximum values."
   ]
  },
  {
   "cell_type": "code",
   "execution_count": 23,
   "id": "22c98e3d",
   "metadata": {},
   "outputs": [
    {
     "name": "stdout",
     "output_type": "stream",
     "text": [
      "Original Array:\n",
      "[[0.32734009 0.20735552 0.28034526 0.32286322 0.94507583 0.42252925\n",
      "  0.85612499 0.71028561 0.01391703 0.52628996]\n",
      " [0.12751781 0.66431    0.06024482 0.57735117 0.08429717 0.81420188\n",
      "  0.14857502 0.38070743 0.88724797 0.82697393]\n",
      " [0.08619985 0.75253305 0.12711615 0.09076933 0.88361306 0.60128408\n",
      "  0.22800135 0.41292121 0.46405739 0.17348318]\n",
      " [0.91857028 0.25177695 0.20070406 0.81047553 0.4895252  0.69421787\n",
      "  0.99797152 0.03919621 0.6380928  0.06820491]\n",
      " [0.42930107 0.4880208  0.87469374 0.87789349 0.25663269 0.2037155\n",
      "  0.53434243 0.30925538 0.71361356 0.446205  ]\n",
      " [0.70633455 0.09622469 0.12863823 0.25918814 0.08212072 0.02823146\n",
      "  0.1210782  0.14515234 0.92524323 0.96322525]\n",
      " [0.64326323 0.4583734  0.83564358 0.4609797  0.79403305 0.1304484\n",
      "  0.25795786 0.71247015 0.5756807  0.20315648]\n",
      " [0.44779571 0.40698226 0.01897416 0.97334954 0.5232626  0.57664997\n",
      "  0.58515711 0.46806057 0.91511447 0.10720103]\n",
      " [0.53492859 0.38773137 0.93640147 0.00220252 0.47712449 0.97291104\n",
      "  0.71148355 0.82563727 0.01345777 0.84998131]\n",
      " [0.72595236 0.25451855 0.91523905 0.34606016 0.46993107 0.93216089\n",
      "  0.99834872 0.76606466 0.58090474 0.14139313]]\n",
      "Minimum and Maximum Values:\n",
      "0.0022025209219507236 0.9983487208429234\n"
     ]
    }
   ],
   "source": [
    "x = np.random.random((10,10))\n",
    "print(\"Original Array:\")\n",
    "print(x) \n",
    "xmin, xmax = x.min(), x.max()\n",
    "print(\"Minimum and Maximum Values:\")\n",
    "print(xmin, xmax)"
   ]
  },
  {
   "cell_type": "markdown",
   "id": "4c642736",
   "metadata": {},
   "source": [
    "# 6. Create a random vector of size 30 and find the mean value."
   ]
  },
  {
   "cell_type": "code",
   "execution_count": 29,
   "id": "b0ede0e5",
   "metadata": {},
   "outputs": [
    {
     "name": "stdout",
     "output_type": "stream",
     "text": [
      "[0.55422198 0.08061146 0.23719522 0.72851879 0.50369603 0.90770285\n",
      " 0.635608   0.28908422 0.98454587 0.759882   0.84554822 0.57935687\n",
      " 0.86276793 0.55145229 0.13123728 0.30510044 0.38382442 0.395557\n",
      " 0.98174819 0.67414029 0.15033387 0.80640235 0.48856464 0.78245053\n",
      " 0.75095896 0.65796389 0.72706001 0.60794672 0.57544153 0.8219652 ]\n",
      "The Mean Value is: \n"
     ]
    },
    {
     "data": {
      "text/plain": [
       "0.5920295688840079"
      ]
     },
     "execution_count": 29,
     "metadata": {},
     "output_type": "execute_result"
    }
   ],
   "source": [
    "a=np.random.random(30)\n",
    "print(a)\n",
    "\n",
    "print(\"The Mean Value is: \")\n",
    "a.mean()"
   ]
  },
  {
   "cell_type": "code",
   "execution_count": null,
   "id": "0f702ba0",
   "metadata": {},
   "outputs": [],
   "source": []
  }
 ],
 "metadata": {
  "kernelspec": {
   "display_name": "Python 3",
   "language": "python",
   "name": "python3"
  },
  "language_info": {
   "codemirror_mode": {
    "name": "ipython",
    "version": 3
   },
   "file_extension": ".py",
   "mimetype": "text/x-python",
   "name": "python",
   "nbconvert_exporter": "python",
   "pygments_lexer": "ipython3",
   "version": "3.8.8"
  }
 },
 "nbformat": 4,
 "nbformat_minor": 5
}
