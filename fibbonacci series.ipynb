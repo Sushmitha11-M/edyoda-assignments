{
 "cells": [
  {
   "cell_type": "code",
   "execution_count": 2,
   "id": "e8c2c336",
   "metadata": {},
   "outputs": [
    {
     "name": "stdout",
     "output_type": "stream",
     "text": [
      "1\n",
      "1\n",
      "2\n",
      "3\n",
      "5\n",
      "8\n",
      "13\n",
      "21\n",
      "34\n"
     ]
    }
   ],
   "source": [
    "first_number,second_number=0,1\n",
    "\n",
    "while second_number<50:\n",
    "    print(second_number)\n",
    "    first_number,second_number = second_number,first_number+second_number\n"
   ]
  },
  {
   "cell_type": "code",
   "execution_count": null,
   "id": "11a8a026",
   "metadata": {},
   "outputs": [],
   "source": []
  }
 ],
 "metadata": {
  "kernelspec": {
   "display_name": "Python 3",
   "language": "python",
   "name": "python3"
  },
  "language_info": {
   "codemirror_mode": {
    "name": "ipython",
    "version": 3
   },
   "file_extension": ".py",
   "mimetype": "text/x-python",
   "name": "python",
   "nbconvert_exporter": "python",
   "pygments_lexer": "ipython3",
   "version": "3.8.8"
  }
 },
 "nbformat": 4,
 "nbformat_minor": 5
}
