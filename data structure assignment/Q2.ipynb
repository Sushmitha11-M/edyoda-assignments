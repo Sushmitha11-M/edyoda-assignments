{
 "cells": [
  {
   "cell_type": "code",
   "execution_count": 4,
   "id": "7d9570fc",
   "metadata": {},
   "outputs": [
    {
     "name": "stdout",
     "output_type": "stream",
     "text": [
      "enter the size if the list5\n",
      "enter the number3\n",
      "enter the number4\n",
      "enter the number2\n",
      "enter the number1\n",
      "enter the number6\n",
      "[3, 4, 2, 1, 6]\n",
      "Array is : [3, 4, 2, 1, 6]\n",
      "After reversing: [6, 1, 2, 4, 3]\n"
     ]
    }
   ],
   "source": [
    "array_size=int(input(\"enter the size if the list\"))\n",
    "\n",
    "Array=[]\n",
    "for i in range(array_size):\n",
    "    num=int(input(\"enter the number\"))\n",
    "    if num in Array:\n",
    "        while num in Array:\n",
    "            print(\"this number is already exist\")\n",
    "            num=int(input(\"enter the another number\"))\n",
    "            continue\n",
    "    Array.append(num)\n",
    "print(\"Array is :\",Array)\n",
    " \n",
    "res = Array[::-1] \n",
    "print(\"After reversing:\",res)"
   ]
  },
  {
   "cell_type": "code",
   "execution_count": null,
   "id": "fdb568ff",
   "metadata": {},
   "outputs": [],
   "source": []
  }
 ],
 "metadata": {
  "kernelspec": {
   "display_name": "Python 3",
   "language": "python",
   "name": "python3"
  },
  "language_info": {
   "codemirror_mode": {
    "name": "ipython",
    "version": 3
   },
   "file_extension": ".py",
   "mimetype": "text/x-python",
   "name": "python",
   "nbconvert_exporter": "python",
   "pygments_lexer": "ipython3",
   "version": "3.8.8"
  }
 },
 "nbformat": 4,
 "nbformat_minor": 5
}
