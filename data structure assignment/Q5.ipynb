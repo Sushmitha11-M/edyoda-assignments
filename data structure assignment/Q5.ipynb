{
 "cells": [
  {
   "cell_type": "code",
   "execution_count": 2,
   "id": "854a06cf",
   "metadata": {},
   "outputs": [
    {
     "name": "stdout",
     "output_type": "stream",
     "text": [
      "Enter number of discs: 4\n",
      "Move disc 1 from pole A to pole B\n",
      "Move disc 2 from pole A to pole C\n",
      "Move disc 1 from pole B to pole C\n",
      "Move disc 3 from pole A to pole B\n",
      "Move disc 1 from pole C to pole A\n",
      "Move disc 2 from pole C to pole B\n",
      "Move disc 1 from pole A to pole B\n",
      "Move disc 4 from pole A to pole C\n",
      "Move disc 1 from pole B to pole C\n",
      "Move disc 2 from pole B to pole A\n",
      "Move disc 1 from pole C to pole A\n",
      "Move disc 3 from pole B to pole C\n",
      "Move disc 1 from pole A to pole B\n",
      "Move disc 2 from pole A to pole C\n",
      "Move disc 1 from pole B to pole C\n"
     ]
    }
   ],
   "source": [
    "def TowerOfHanoi(n , s_pole, d_pole, i_pole):           \n",
    "    if n == 1:\n",
    "        print(\"Move disc 1 from pole\",s_pole,\"to pole\",d_pole)\n",
    "        return\n",
    "    TowerOfHanoi(n-1, s_pole, i_pole, d_pole)\n",
    "    print(\"Move disc\",n,\"from pole\",s_pole,\"to pole\",d_pole)\n",
    "    TowerOfHanoi(n-1, i_pole, d_pole, s_pole)\n",
    "n=int(input(\"Enter number of discs: \"))\n",
    "TowerOfHanoi(n, 'A', 'C', 'B')\n",
    "# A, C, B are the name of towers"
   ]
  },
  {
   "cell_type": "code",
   "execution_count": null,
   "id": "cac58c74",
   "metadata": {},
   "outputs": [],
   "source": []
  }
 ],
 "metadata": {
  "kernelspec": {
   "display_name": "Python 3",
   "language": "python",
   "name": "python3"
  },
  "language_info": {
   "codemirror_mode": {
    "name": "ipython",
    "version": 3
   },
   "file_extension": ".py",
   "mimetype": "text/x-python",
   "name": "python",
   "nbconvert_exporter": "python",
   "pygments_lexer": "ipython3",
   "version": "3.8.8"
  }
 },
 "nbformat": 4,
 "nbformat_minor": 5
}
