{
 "cells": [
  {
   "cell_type": "code",
   "execution_count": 8,
   "id": "dd517be1",
   "metadata": {},
   "outputs": [
    {
     "name": "stdout",
     "output_type": "stream",
     "text": [
      "Enter string: sushmitha\n",
      "First non-repeating character =  u\n"
     ]
    }
   ],
   "source": [
    "myStr = input(\"Enter string: \")\n",
    "\n",
    "# Looping\n",
    "while myStr != \"\":\n",
    "    slen0 = len(myStr)\n",
    "    ch = myStr[0]\n",
    "    myStr = myStr.replace(ch, \"\")\n",
    "    slen1 = len(myStr)\n",
    "    if slen1 == slen0-1:\n",
    "        print (\"First non-repeating character = \",ch)\n",
    "        break;\n",
    "#     else:\n",
    "#         print (\"No Unique Character Found!\")\n"
   ]
  },
  {
   "cell_type": "code",
   "execution_count": null,
   "id": "24180e2a",
   "metadata": {},
   "outputs": [],
   "source": []
  }
 ],
 "metadata": {
  "kernelspec": {
   "display_name": "Python 3",
   "language": "python",
   "name": "python3"
  },
  "language_info": {
   "codemirror_mode": {
    "name": "ipython",
    "version": 3
   },
   "file_extension": ".py",
   "mimetype": "text/x-python",
   "name": "python",
   "nbconvert_exporter": "python",
   "pygments_lexer": "ipython3",
   "version": "3.8.8"
  }
 },
 "nbformat": 4,
 "nbformat_minor": 5
}
