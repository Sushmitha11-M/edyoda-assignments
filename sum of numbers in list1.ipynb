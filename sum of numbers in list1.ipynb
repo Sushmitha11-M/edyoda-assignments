{
 "cells": [
  {
   "cell_type": "code",
   "execution_count": 1,
   "id": "d385055d",
   "metadata": {},
   "outputs": [
    {
     "name": "stdout",
     "output_type": "stream",
     "text": [
      "Enter the list size 6\n",
      "\n",
      "\n",
      "Enter number at index 0\n",
      "2\n",
      "Enter number at index 1\n",
      "10\n",
      "Enter number at index 2\n",
      "7\n",
      "Enter number at index 3\n",
      "9\n",
      "Enter number at index 4\n",
      "5\n",
      "Enter number at index 5\n",
      "4\n",
      "Numbers are [2, 10, 7, 9, 5, 4]\n",
      "sum of all numbers in a list is :  37\n"
     ]
    }
   ],
   "source": [
    "Numbers = []\n",
    "n = int(input(\"Enter the list size \"))\n",
    "\n",
    "print(\"\\n\")\n",
    "for i in range(0, n):\n",
    "    print(\"Enter number at index\", i, )\n",
    "    item = int(input())\n",
    "    Numbers.append(item)\n",
    "print(\"Numbers are\", Numbers)\n",
    "\n",
    "\n",
    "\n",
    "#num = [1, 2, 3, 4, 5]\n",
    "total = 0\n",
    "for x in Numbers:\n",
    "    total += x\n",
    "\n",
    "print(\"sum of all numbers in a list is : \",total)"
   ]
  },
  {
   "cell_type": "code",
   "execution_count": null,
   "id": "534249d3",
   "metadata": {},
   "outputs": [],
   "source": []
  }
 ],
 "metadata": {
  "kernelspec": {
   "display_name": "Python 3",
   "language": "python",
   "name": "python3"
  },
  "language_info": {
   "codemirror_mode": {
    "name": "ipython",
    "version": 3
   },
   "file_extension": ".py",
   "mimetype": "text/x-python",
   "name": "python",
   "nbconvert_exporter": "python",
   "pygments_lexer": "ipython3",
   "version": "3.8.8"
  }
 },
 "nbformat": 4,
 "nbformat_minor": 5
}
