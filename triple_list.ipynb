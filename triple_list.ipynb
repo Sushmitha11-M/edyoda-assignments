{
 "cells": [
  {
   "cell_type": "code",
   "execution_count": 2,
   "id": "d6bc2253",
   "metadata": {},
   "outputs": [
    {
     "name": "stdout",
     "output_type": "stream",
     "text": [
      "enter the size if the list7\n",
      "enter the number1\n",
      "enter the number2\n",
      "enter the number3\n",
      "enter the number4\n",
      "enter the number5\n",
      "enter the number6\n",
      "enter the number7\n",
      "[1, 2, 3, 4, 5, 6, 7]\n",
      "Original list:  [1, 2, 3, 4, 5, 6, 7]\n",
      "\n",
      "Triple of said list numbers:\n",
      "[3, 6, 9, 12, 15, 18, 21]\n"
     ]
    }
   ],
   "source": [
    "List_size=int(input(\"enter the size if the list\"))\n",
    "\n",
    "numbers=[]\n",
    "for i in range(List_size):\n",
    "    num=int(input(\"enter the number\"))\n",
    "    if num in numbers:\n",
    "        while num in numbers:\n",
    "            print(\"this number is already exist\")\n",
    "            num=int(input(\"enter the another number\"))\n",
    "            continue\n",
    "    numbers.append(num)\n",
    "print(numbers)\n",
    "\n",
    "#nums = (1, 2, 3, 4, 5, 6, 7) \n",
    "print(\"Original list: \", numbers)\n",
    "result = map(lambda x: x + x + x, numbers) \n",
    "print(\"\\nTriple of said list numbers:\")\n",
    "print(list(result))\n"
   ]
  },
  {
   "cell_type": "code",
   "execution_count": null,
   "id": "0bab82cb",
   "metadata": {},
   "outputs": [],
   "source": []
  }
 ],
 "metadata": {
  "kernelspec": {
   "display_name": "Python 3",
   "language": "python",
   "name": "python3"
  },
  "language_info": {
   "codemirror_mode": {
    "name": "ipython",
    "version": 3
   },
   "file_extension": ".py",
   "mimetype": "text/x-python",
   "name": "python",
   "nbconvert_exporter": "python",
   "pygments_lexer": "ipython3",
   "version": "3.8.8"
  }
 },
 "nbformat": 4,
 "nbformat_minor": 5
}
