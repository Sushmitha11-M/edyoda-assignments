{
 "cells": [
  {
   "cell_type": "code",
   "execution_count": null,
   "id": "bc6f2c76",
   "metadata": {},
   "outputs": [],
   "source": [
    "# The user will have the following functionalities:\n",
    "\n",
    "# Register on the application. Following to be entered for registration:\n",
    "# Full Name\n",
    "# Phone Number\n",
    "# Email\n",
    "# Address\n",
    "# Password\n",
    "# Log in to the application\n",
    "# The user will see 3 options:\n",
    "# Place New Order\n",
    "# Order History\n",
    "# Update Profile\n",
    "# Place New Order: The user can place a new order at the restaurant.\n",
    "# Show list of food. The list item should as follows:\n",
    "# 1. Tandoori Chicken (4 pieces) [INR 240]\n",
    "# 2. Vegan Burger (1 Piece) [INR 320]\n",
    "# 3. Truffle Cake (500gm) [INR 900]\n",
    "# Users should be able to select food by entering an array of numbers. For example, if the user wants to order Vegan Burger and Truffle Cake they should enter [2, 3]\n",
    "# Once the items are selected user should see the list of all the items selected. The user will also get an option to place an order.\n",
    "# Order History should show a list of all the previous orders\n",
    "# Update Profile: the user should be able to update their profile."
   ]
  },
  {
   "cell_type": "code",
   "execution_count": 1,
   "id": "acb5f83c",
   "metadata": {},
   "outputs": [],
   "source": [
    "class User:\n",
    "    def __init__(self,Name,Phone_number,Email,Address,Password):\n",
    "        self.Name=Name\n",
    "        self.Phone_number=Phone_number\n",
    "        self.Email=Email\n",
    "        self.Address=Address\n",
    "        self.Password=Password\n",
    "        \n",
    "    def set_Name(self,Name):\n",
    "         self.Name=Name\n",
    "        \n",
    "    def get_Name(self):\n",
    "         return self.Name\n",
    "    \n",
    "    def set_Phone_number(self,Phone_number):\n",
    "         self.Phone_number=Phone_number\n",
    "        \n",
    "    def get_Phone_number(self):\n",
    "         self.Phone_number\n",
    "            \n",
    "    def set_Email(self,Email):\n",
    "         self.Email=Email\n",
    "        \n",
    "    def get_Email(self):\n",
    "         self.Email\n",
    "        \n",
    "    def set_Address(self,Address):\n",
    "         self.Address=Address\n",
    "        \n",
    "    def get_Address(self):\n",
    "         self.Address\n",
    "        \n",
    "    def set_Password(self,Password):\n",
    "         self.Password=Password\n",
    "        \n",
    "    def get_Password(self):\n",
    "         self.Password    "
   ]
  },
  {
   "cell_type": "code",
   "execution_count": null,
   "id": "34efe160",
   "metadata": {},
   "outputs": [],
   "source": []
  }
 ],
 "metadata": {
  "kernelspec": {
   "display_name": "Python 3",
   "language": "python",
   "name": "python3"
  },
  "language_info": {
   "codemirror_mode": {
    "name": "ipython",
    "version": 3
   },
   "file_extension": ".py",
   "mimetype": "text/x-python",
   "name": "python",
   "nbconvert_exporter": "python",
   "pygments_lexer": "ipython3",
   "version": "3.8.8"
  }
 },
 "nbformat": 4,
 "nbformat_minor": 5
}
