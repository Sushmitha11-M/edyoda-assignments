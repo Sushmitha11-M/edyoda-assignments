{
 "cells": [
  {
   "cell_type": "code",
   "execution_count": 7,
   "id": "747ce3f7",
   "metadata": {},
   "outputs": [
    {
     "name": "stdout",
     "output_type": "stream",
     "text": [
      "Enter the list size 5\n",
      "\n",
      "\n",
      "Enter number at index 0\n",
      "1\n",
      "Enter number at index 1\n",
      "2\n",
      "Enter number at index 2\n",
      "3\n",
      "Enter number at index 3\n",
      "4\n",
      "Enter number at index 4\n",
      "5\n",
      "Numbers are [1, 2, 3, 4, 5]\n",
      "Number of even numbers : 2\n",
      "Number of odd numbers : 3\n"
     ]
    }
   ],
   "source": [
    "Numbers = []\n",
    "n = int(input(\"Enter the list size \"))\n",
    "\n",
    "print(\"\\n\")\n",
    "for i in range(0, n):\n",
    "    print(\"Enter number at index\", i, )\n",
    "    item = int(input())\n",
    "    Numbers.append(item)\n",
    "print(\"Numbers are\", Numbers)\n",
    "\n",
    "\n",
    "counting_odd = 0\n",
    "counting_even = 0\n",
    "for y in Numbers:\n",
    "        if not y % 2:\n",
    "             counting_even+=1\n",
    "        else:\n",
    "             counting_odd+=1\n",
    "\n",
    "\n",
    "print(\"Number of even numbers :\",counting_even)\n",
    "print(\"Number of odd numbers :\",counting_odd)\n"
   ]
  },
  {
   "cell_type": "code",
   "execution_count": null,
   "id": "bc4929fa",
   "metadata": {},
   "outputs": [],
   "source": []
  },
  {
   "cell_type": "code",
   "execution_count": null,
   "id": "febbf6e4",
   "metadata": {},
   "outputs": [],
   "source": []
  }
 ],
 "metadata": {
  "kernelspec": {
   "display_name": "Python 3",
   "language": "python",
   "name": "python3"
  },
  "language_info": {
   "codemirror_mode": {
    "name": "ipython",
    "version": 3
   },
   "file_extension": ".py",
   "mimetype": "text/x-python",
   "name": "python",
   "nbconvert_exporter": "python",
   "pygments_lexer": "ipython3",
   "version": "3.8.8"
  }
 },
 "nbformat": 4,
 "nbformat_minor": 5
}
