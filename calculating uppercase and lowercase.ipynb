{
 "cells": [
  {
   "cell_type": "code",
   "execution_count": 2,
   "id": "ae1780fe",
   "metadata": {},
   "outputs": [
    {
     "name": "stdout",
     "output_type": "stream",
     "text": [
      "Enter string:The quick Brow Fox\n",
      "Number of lowercase characters is: 12\n",
      "Number of uppercase characters is: 3\n"
     ]
    }
   ],
   "source": [
    "calculate=input(\"Enter string:\")\n",
    "lower=0\n",
    "upper=0\n",
    "for i in calculate:\n",
    "      if(i.islower()):\n",
    "            lower=lower+1\n",
    "      elif(i.isupper()):\n",
    "            upper=upper+1\n",
    "print(\"Number of lowercase characters is:\",lower)\n",
    "print(\"Number of uppercase characters is:\",upper)"
   ]
  },
  {
   "cell_type": "code",
   "execution_count": null,
   "id": "4aeec26c",
   "metadata": {},
   "outputs": [],
   "source": []
  }
 ],
 "metadata": {
  "kernelspec": {
   "display_name": "Python 3",
   "language": "python",
   "name": "python3"
  },
  "language_info": {
   "codemirror_mode": {
    "name": "ipython",
    "version": 3
   },
   "file_extension": ".py",
   "mimetype": "text/x-python",
   "name": "python",
   "nbconvert_exporter": "python",
   "pygments_lexer": "ipython3",
   "version": "3.8.8"
  }
 },
 "nbformat": 4,
 "nbformat_minor": 5
}
