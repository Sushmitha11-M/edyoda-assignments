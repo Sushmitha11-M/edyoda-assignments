{
 "cells": [
  {
   "cell_type": "code",
   "execution_count": 5,
   "id": "439b2a84",
   "metadata": {},
   "outputs": [
    {
     "name": "stdout",
     "output_type": "stream",
     "text": [
      "Enter the numbers: 1 2 3 4 5 6\n",
      "Desired output is:  6 1 5 2 4 3\n"
     ]
    }
   ],
   "source": [
    "def max_min(number):\n",
    "    number=[]\n",
    "    for num_str in arr.split():\n",
    "        num_int = int(num_str)\n",
    "        number.append(num_int)\n",
    "    l_order=[]\n",
    "    number1=number[::-1]\n",
    "    for i in number:\n",
    "        for k in number1:\n",
    "            l1=number1.pop(0)\n",
    "            l2=number.pop(0)\n",
    "            l_order.append(l1)\n",
    "            l_order.append(l2)\n",
    "    result = [] \n",
    "    for i in l_order: \n",
    "        if i not in result: \n",
    "            result.append(i)\n",
    "    #print (str(result))\n",
    "    print(\"Desired output is: \",' '.join(map(str, result)))\n",
    "    \n",
    "    \n",
    "arr=input(\"Enter the numbers: \")\n",
    "max_min(number)"
   ]
  },
  {
   "cell_type": "code",
   "execution_count": null,
   "id": "378f89b6",
   "metadata": {},
   "outputs": [],
   "source": []
  }
 ],
 "metadata": {
  "kernelspec": {
   "display_name": "Python 3",
   "language": "python",
   "name": "python3"
  },
  "language_info": {
   "codemirror_mode": {
    "name": "ipython",
    "version": 3
   },
   "file_extension": ".py",
   "mimetype": "text/x-python",
   "name": "python",
   "nbconvert_exporter": "python",
   "pygments_lexer": "ipython3",
   "version": "3.8.8"
  }
 },
 "nbformat": 4,
 "nbformat_minor": 5
}
