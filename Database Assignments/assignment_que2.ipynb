{
 "cells": [
  {
   "cell_type": "markdown",
   "id": "0424d9ad",
   "metadata": {},
   "source": [
    "Your task is to complete the validate_triangle and validate_rectangle functions for the classes.Hint for validating is given in the\n",
    "\n",
    "comments of the code. Also you will have to print the following after validation in respective functions:-\n",
    "\n",
    "1.Invalid Triangle: If the triangle sum property of sides is not valid(More hint in the comments of code)\n",
    "\n",
    "2.Valid Triangle:If the triangle sum property of sides is valid.\n",
    "\n",
    "3.Valid Rectangle:If 2 side pairs are same and they are input in correct order like l,b,l,b\n",
    "\n",
    "4.Invalid Rectangle: If Not Valid rectangle as stated above.\n",
    "\n",
    "Input Format:\n",
    "\n",
    "The side length of triangle followed by for rectangle in the next line in order.\n",
    "\n",
    "Output Format:\n",
    "\n",
    "since object are created in order, so first validate info about triangle will come and than rectangle.\n",
    "\n",
    "Sample Input 0:\n",
    "\n",
    "3 4 5\n",
    "\n",
    "2 4 2 4\n",
    "\n",
    "Sample Output 0:\n",
    "\n",
    "Valid Triangle\n",
    "\n",
    "Valid Rectangle\n",
    "\n"
   ]
  },
  {
   "cell_type": "code",
   "execution_count": 9,
   "id": "8e0dc386",
   "metadata": {},
   "outputs": [
    {
     "name": "stdout",
     "output_type": "stream",
     "text": [
      "Enter the value of side1: 3\n",
      "Enter the value of side2: 4\n",
      "Enter the value of side3: 5\n",
      "Valid Triangle\n"
     ]
    }
   ],
   "source": [
    "def checkValidity(a, b, c):\n",
    "     \n",
    "    if (a + b <= c) or (a + c <= b) or (b + c <= a) :\n",
    "        return False\n",
    "    else:\n",
    "        return True       \n",
    "# a = 3\n",
    "# b = 4\n",
    "# c = 5\n",
    "a=int(input(\"Enter the value of side1: \"))\n",
    "b=int(input(\"Enter the value of side2: \"))\n",
    "c=int(input(\"Enter the value of side3: \"))\n",
    "\n",
    "if checkValidity(a, b, c):\n",
    "    print(\"Valid Triangle\")\n",
    "else:\n",
    "    print(\"Invalid Triangle\")"
   ]
  },
  {
   "cell_type": "code",
   "execution_count": 10,
   "id": "7a4a5f34",
   "metadata": {},
   "outputs": [
    {
     "name": "stdout",
     "output_type": "stream",
     "text": [
      "Enter the value of side1: 2\n",
      "Enter the value of side2: 4\n",
      "Enter the value of side3: 2\n",
      "Enter the value of side4: 5\n",
      "Invalid Rectangle\n"
     ]
    }
   ],
   "source": [
    "def isRectangle(a, b, c, d):\n",
    " \n",
    "    # check all sides of rectangle combinations\n",
    "    if (a == b and d == c) or (a == c and b == d) or (a == d and b == c):\n",
    "        return True\n",
    "    else:\n",
    "        return False\n",
    " \n",
    " \n",
    "# Driver code\n",
    "#a, b, c, d = 2,4,2,4\n",
    "a=int(input(\"Enter the value of side1: \"))\n",
    "b=int(input(\"Enter the value of side2: \"))\n",
    "c=int(input(\"Enter the value of side3: \"))\n",
    "d=int(input(\"Enter the value of side4: \"))\n",
    "\n",
    "print(\"Valid Rectangle\" if isRectangle(a, b, c, d) else \"Invalid Rectangle\")"
   ]
  }
 ],
 "metadata": {
  "kernelspec": {
   "display_name": "Python 3",
   "language": "python",
   "name": "python3"
  },
  "language_info": {
   "codemirror_mode": {
    "name": "ipython",
    "version": 3
   },
   "file_extension": ".py",
   "mimetype": "text/x-python",
   "name": "python",
   "nbconvert_exporter": "python",
   "pygments_lexer": "ipython3",
   "version": "3.8.8"
  }
 },
 "nbformat": 4,
 "nbformat_minor": 5
}
