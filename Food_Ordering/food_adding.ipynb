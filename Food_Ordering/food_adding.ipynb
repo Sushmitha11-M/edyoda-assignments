{
 "cells": [
  {
   "cell_type": "code",
   "execution_count": 1,
   "id": "5dda0452",
   "metadata": {},
   "outputs": [
    {
     "name": "stdout",
     "output_type": "stream",
     "text": [
      "importing Jupyter notebook from food.ipynb\n"
     ]
    }
   ],
   "source": [
    "import import_ipynb\n",
    "import random\n",
    "from food import Food,Admin\n",
    "import re"
   ]
  },
  {
   "cell_type": "code",
   "execution_count": 2,
   "id": "2a5f6846",
   "metadata": {},
   "outputs": [],
   "source": [
    "class FoodAdding:\n",
    "    FoodList = []\n",
    "    adminlist = []\n",
    "    def add_food(self):\n",
    "       # book_id=int(input(\"Enter book id: \"))\n",
    "        f_id=random.randint(1, 101)\n",
    "        Food_id=int(f_id)\n",
    "        Food_id1=print(\"Food id is: \", Food_id)\n",
    "        Food_name=str(input(\"Enter the Food name: \"))\n",
    "        Quantity=str(input(\"enter quantity: \"))\n",
    "        Price=str(input(\"Enter the Food Price: \"))\n",
    "        Discount=str(input(\"Enter the Discount: \"))\n",
    "        food_obj=Food(Food_id,Food_name,Quantity,Price,Discount)\n",
    "        self.FoodList.append(food_obj)\n",
    "        print(\"Successfully Food Added to the Menu!\")\n",
    "        \n",
    "    def view_food(self):\n",
    "        for i in self.FoodList:\n",
    "            print(\"*************\")\n",
    "            print(i)\n",
    "\n",
    "    def update_food(self):\n",
    "        Food_id = int(input(\"Enter Food Id of the Food you want to update : \"))\n",
    "        for foods in self.FoodList:\n",
    "            if foods.Food_id == Food_id:\n",
    "                Food_name = str(input(\"Enter Food Name : \"))\n",
    "                Quantity = str(input(\"Enter Food Quantity : \"))\n",
    "                Price = str(input(\"Enter Food Price : \"))\n",
    "                Discount=str(input(\"Enter the Discount: \"))\n",
    "                \n",
    "                foods.set_Food_name(Food_name)\n",
    "                foods.set_Quantity(Quantity)\n",
    "                foods.set_Price(Price)\n",
    "                foods.set_Discount(Discount)\n",
    "                \n",
    "                print(\"Successfully Food Updated to the Menu\")\n",
    "                break\n",
    "        else:\n",
    "            print(\"No Food found!\")\n",
    "\n",
    "            \n",
    "    def delete_food(self):\n",
    "        Food_id=int(input(\"Enter Food id you want to delete: \"))\n",
    "        for foods in self.FoodList:\n",
    "            if foods.Food_id==Food_id:\n",
    "                self.FoodList.remove(foods)\n",
    "                print(\"Food deleted successfully!\")\n",
    "                break;\n",
    "        else:\n",
    "            print(\"No Food having Id you entered\")\n",
    "    \n",
    "    def Admin_Register(self):\n",
    "        Name=str(input(\"Enter the your name: \"))\n",
    "        Phone_number=str(input(\"Enter your contact: \"))\n",
    "        length = len(Phone_number)\n",
    "        if length == 10:\n",
    "            pass\n",
    "        else:\n",
    "            Phone_number=str(input(\"Minimum having 10 dugits: \"))\n",
    "        Email=str(input(\"Enter your Email Address: \"))\n",
    "        res=re.findall(r\"^[a-zA-Z0-9]+[@][a-z+]+[.]{1}[a-z]+$\", Email)\n",
    "        if res:\n",
    "            pass\n",
    "        else:\n",
    "            Email=str(input(\"Please Enter the Correct email: \"))\n",
    "        Address=str(input(\"Enter your Address: \"))\n",
    "        Password=str(input(\"Set the Password: \"))\n",
    "        if re.fullmatch(r'[A-Za-z0-9@#$%^&+=]{8,}', Password):\n",
    "            pass\n",
    "        else:\n",
    "            Password=str(input(\"The Password have minimum 8 characters: \"))\n",
    "        Admin_obj=Admin(Name,Phone_number,Email,Address,Password)\n",
    "        self.adminlist.append(Admin_obj)\n",
    "        print(\"Registered Successfully!\")\n",
    "        "
   ]
  }
 ],
 "metadata": {
  "kernelspec": {
   "display_name": "Python 3",
   "language": "python",
   "name": "python3"
  },
  "language_info": {
   "codemirror_mode": {
    "name": "ipython",
    "version": 3
   },
   "file_extension": ".py",
   "mimetype": "text/x-python",
   "name": "python",
   "nbconvert_exporter": "python",
   "pygments_lexer": "ipython3",
   "version": "3.8.8"
  }
 },
 "nbformat": 4,
 "nbformat_minor": 5
}
