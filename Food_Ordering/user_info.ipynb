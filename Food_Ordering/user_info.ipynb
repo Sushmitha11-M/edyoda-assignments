{
 "cells": [
  {
   "cell_type": "code",
   "execution_count": 1,
   "id": "acb5f83c",
   "metadata": {},
   "outputs": [],
   "source": [
    "class User:\n",
    "    def __init__(self,Name,Phone_number,Email,Address,Password):\n",
    "        self.Name=Name\n",
    "        self.Phone_number=Phone_number\n",
    "        self.Email=Email\n",
    "        self.Address=Address\n",
    "        self.Password=Password\n",
    "        \n",
    "    def set_Name(self,Name):\n",
    "         self.Name=Name\n",
    "        \n",
    "    def get_Name(self):\n",
    "         return self.Name\n",
    "    \n",
    "    def set_Phone_number(self,Phone_number):\n",
    "         self.Phone_number=Phone_number\n",
    "        \n",
    "    def get_Phone_number(self):\n",
    "         self.Phone_number\n",
    "            \n",
    "    def set_Email(self,Email):\n",
    "         self.Email=Email\n",
    "        \n",
    "    def get_Email(self):\n",
    "         self.Email\n",
    "        \n",
    "    def set_Address(self,Address):\n",
    "         self.Address=Address\n",
    "        \n",
    "    def get_Address(self):\n",
    "         self.Address\n",
    "        \n",
    "    def set_Password(self,Password):\n",
    "         self.Password=Password\n",
    "        \n",
    "    def get_Password(self):\n",
    "         self.Password    "
   ]
  },
  {
   "cell_type": "code",
   "execution_count": null,
   "id": "34efe160",
   "metadata": {},
   "outputs": [],
   "source": []
  }
 ],
 "metadata": {
  "kernelspec": {
   "display_name": "Python 3",
   "language": "python",
   "name": "python3"
  },
  "language_info": {
   "codemirror_mode": {
    "name": "ipython",
    "version": 3
   },
   "file_extension": ".py",
   "mimetype": "text/x-python",
   "name": "python",
   "nbconvert_exporter": "python",
   "pygments_lexer": "ipython3",
   "version": "3.8.8"
  }
 },
 "nbformat": 4,
 "nbformat_minor": 5
}
