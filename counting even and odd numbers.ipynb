{
 "cells": [
  {
   "cell_type": "code",
   "execution_count": 3,
   "id": "946b94fc",
   "metadata": {},
   "outputs": [
    {
     "name": "stdout",
     "output_type": "stream",
     "text": [
      "Number of even numbers : 4\n",
      "Number of odd numbers : 5\n"
     ]
    }
   ],
   "source": [
    "numbers = (1, 2, 3, 4, 5, 6, 7, 8, 9)\n",
    "counting_odd = 0\n",
    "counting_even = 0\n",
    "for y in numbers:\n",
    "        if not y % 2:\n",
    "             counting_even+=1\n",
    "        else:\n",
    "             counting_odd+=1\n",
    "print(\"Number of even numbers :\",counting_even)\n",
    "print(\"Number of odd numbers :\",counting_odd)\n"
   ]
  },
  {
   "cell_type": "code",
   "execution_count": null,
   "id": "50d93b58",
   "metadata": {},
   "outputs": [],
   "source": []
  }
 ],
 "metadata": {
  "kernelspec": {
   "display_name": "Python 3",
   "language": "python",
   "name": "python3"
  },
  "language_info": {
   "codemirror_mode": {
    "name": "ipython",
    "version": 3
   },
   "file_extension": ".py",
   "mimetype": "text/x-python",
   "name": "python",
   "nbconvert_exporter": "python",
   "pygments_lexer": "ipython3",
   "version": "3.8.8"
  }
 },
 "nbformat": 4,
 "nbformat_minor": 5
}
